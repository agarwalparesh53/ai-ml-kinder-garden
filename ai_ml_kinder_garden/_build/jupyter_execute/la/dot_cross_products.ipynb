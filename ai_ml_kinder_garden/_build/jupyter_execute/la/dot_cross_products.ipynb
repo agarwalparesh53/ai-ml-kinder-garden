{
 "cells": [
  {
   "cell_type": "code",
   "execution_count": 1,
   "id": "fcad21c6-cfdc-4f01-9485-4f2185888ebf",
   "metadata": {
    "editable": true,
    "slideshow": {
     "slide_type": ""
    },
    "tags": []
   },
   "outputs": [],
   "source": [
    "import pandas as pd\n",
    "import numpy as np\n",
    "import matplotlib.pyplot as plt"
   ]
  },
  {
   "cell_type": "markdown",
   "id": "372e8f89-56ef-4c9d-9cf5-b2f926c042e1",
   "metadata": {
    "editable": true,
    "slideshow": {
     "slide_type": ""
    },
    "tags": []
   },
   "source": [
    "## Vector Products\n",
    "\n",
    "### Dot Product\n",
    "\n",
    "\n",
    "### Cross Product"
   ]
  },
  {
   "cell_type": "code",
   "execution_count": null,
   "id": "5303e7d9-b3f5-4ffd-a838-fb20aecb0b49",
   "metadata": {
    "editable": true,
    "slideshow": {
     "slide_type": ""
    },
    "tags": []
   },
   "outputs": [],
   "source": []
  }
 ],
 "metadata": {
  "kernelspec": {
   "display_name": "Python 3 (ipykernel)",
   "language": "python",
   "name": "python3"
  },
  "language_info": {
   "codemirror_mode": {
    "name": "ipython",
    "version": 3
   },
   "file_extension": ".py",
   "mimetype": "text/x-python",
   "name": "python",
   "nbconvert_exporter": "python",
   "pygments_lexer": "ipython3",
   "version": "3.12.2"
  }
 },
 "nbformat": 4,
 "nbformat_minor": 5
}