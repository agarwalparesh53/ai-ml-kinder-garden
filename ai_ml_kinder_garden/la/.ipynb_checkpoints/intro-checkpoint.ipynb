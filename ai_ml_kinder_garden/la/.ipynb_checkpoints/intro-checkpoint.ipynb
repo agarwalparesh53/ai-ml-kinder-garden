{
 "cells": [
  {
   "cell_type": "code",
   "execution_count": null,
   "id": "2b448ae5-6ee2-42d4-bddc-8908606ee268",
   "metadata": {
    "editable": true,
    "slideshow": {
     "slide_type": ""
    },
    "tags": [
     "remove-cell"
    ]
   },
   "outputs": [],
   "source": [
    "import pandas as pd\n",
    "import numpy as np\n",
    "import matplotlib.pyplot as plt"
   ]
  },
  {
   "cell_type": "markdown",
   "id": "14c89089-f0aa-4df6-8abf-0f03072821c7",
   "metadata": {
    "editable": true,
    "slideshow": {
     "slide_type": ""
    },
    "tags": []
   },
   "source": [
    "# Introduction To Linear Algebra"
   ]
  },
  {
   "cell_type": "markdown",
   "id": "6bc7d700-b4a3-4a51-b378-8f26771fbd89",
   "metadata": {
    "editable": true,
    "slideshow": {
     "slide_type": ""
    },
    "tags": []
   },
   "source": [
    "## Why do we need Algebra ?\n",
    "\n",
    "Algebra allows to solve a for non numeric entities which are expressed in an equation.\n",
    "    \n",
    "- 2x - 4 = 20\n",
    "- 2x = 20 + 4\n",
    "- 2x = 24\n",
    "- x = 24 / 2\n",
    "- x = 12\n",
    "\n",
    "## Why do we need Linear Algebra ?\n",
    "\n",
    "Linear algebra provides a way to compactly representing and solving system of equations."
   ]
  },
  {
   "cell_type": "markdown",
   "id": "793fd60d-6d17-476f-953b-77746768f0c8",
   "metadata": {
    "editable": true,
    "slideshow": {
     "slide_type": "notes"
    },
    "tags": [
     "remove-input"
    ]
   },
   "source": [
    "## Case Study\n",
    "\n",
    "### Description\n",
    ":::{card}    \n",
    "- Sheriff has 180 km/h car\n",
    "- Bank robber has 150 km/h car and 5 min head start\n",
    "- How long does it take the Sheriff to catch the robber ?\n",
    "- What distance will they have travelled at that point ?\n",
    ":::\n",
    "### Geometric Solution"
   ]
  },
  {
   "cell_type": "code",
   "execution_count": null,
   "id": "8ee3f1e8-03c2-49a9-8e20-b00bd5e89416",
   "metadata": {
    "editable": true,
    "slideshow": {
     "slide_type": ""
    },
    "tags": [
     "remove-input"
    ]
   },
   "outputs": [],
   "source": [
    "t = np.linspace(0, 35)\n",
    "plt.plot(t, 2.5 * (t + 5), label=\"Robber\")\n",
    "plt.plot(t, 3 * t, label=\"Sheriff\")\n",
    "plt.vlines(25, 0, 75, linestyles=\"dashed\")\n",
    "plt.hlines(75, 0, 25, linestyles=\"dashed\")\n",
    "plt.legend()\n",
    "plt.title(\"Distance and time for Sheriff and Robber.\")\n",
    "plt.xlabel(\"time in minutes\")\n",
    "plt.ylabel(\"distance travelled in KM\")\n",
    "plt.ylim(0, 100)\n",
    "plt.xlim(0, 50)\n",
    "plt.show()"
   ]
  },
  {
   "cell_type": "markdown",
   "id": "a69b1fcd-9d95-466f-93ed-8516f6e00f51",
   "metadata": {
    "editable": true,
    "slideshow": {
     "slide_type": ""
    },
    "tags": []
   },
   "source": [
    "### Algebra Solution\n",
    "\n",
    "Let distance travelled to x, and time taken = t\n",
    "\n",
    "we have equations for distance travelled as:\n",
    "```\n",
    "- 3 * t = x\n",
    "- 2.5 * (t + 5) = x\n",
    "- 3t - 2.5t = 5*2.5\n",
    "- 0.5t = 7.5\n",
    "- t = 25 minutes\n",
    "- x = 75 KM\n",
    "```"
   ]
  },
  {
   "cell_type": "markdown",
   "id": "60cd4e49-29fc-4520-8921-18ed27f40c7c",
   "metadata": {
    "editable": true,
    "slideshow": {
     "slide_type": ""
    },
    "tags": []
   },
   "source": [
    "## Application of Linear Algebra in Machine Learning and Deep Learning \n",
    "\n",
    "Now we understand that a system of equation means \n",
    "\n",
    "- Many unknowns\n",
    "- Many equations for those unknowns\n",
    "\n",
    "Linear algebra can help solve the system of equations. \n",
    "\n",
    "\n",
    "----\n",
    "\n",
    "::::{card}\n",
    "Consider a house price prediction problem. We can have many variables like \n",
    "\n",
    "- Number of bedrooms\n",
    "- Size of lot\n",
    "- Number of bathrooms\n",
    "- size of garden\n",
    "- etc\n",
    "\n",
    "We can define a Linear Regression model \n",
    "\n",
    "$$ Y = a_0 + a_1*X_1 + a_2*X_2 + ... + a_n * X_n$$\n",
    "\n",
    "Where \n",
    "- Y is predicted price of the house.\n",
    "- $a_0$ is intercept\n",
    "- $a_i$ is the slope of $i^{th}$ dimension\n",
    "- $X_i$ is the $i^{th}$ feature / predictor\n",
    "\n",
    "**If we try to write the same m equation for each of m houses, it will be very tedious** \n",
    "\n",
    "Hence we use a Linear Algebra representation for the same.\n",
    "\n",
    "$$ \\begin{bmatrix} a_0 & a_2 & ... & a_n\\end{bmatrix}\\begin{bmatrix} 1 & 1 & ... & 1 \\\\ x_{11} & x_{21} & ... & x_{n1}  \\\\ ... & ... & ... & ... \\\\ x_{1n} & x_{2n} & ... & x_{mn}\\end{bmatrix}  = \\begin{bmatrix} y_1 \\\\ y_2 \\\\ \\vdots \\\\ y_m\\end{bmatrix}$$\n",
    "    \n",
    "It will be tedious to solve m*n+1 equations. Linear algebra provides ways to solve these system of equations effectively.\n",
    "::::\n"
   ]
  },
  {
   "cell_type": "code",
   "execution_count": null,
   "id": "0cf5ff72-9a36-4ea6-a61d-03e0f5005726",
   "metadata": {
    "editable": true,
    "slideshow": {
     "slide_type": ""
    },
    "tags": []
   },
   "outputs": [],
   "source": []
  }
 ],
 "metadata": {
  "kernelspec": {
   "display_name": "Python 3 (ipykernel)",
   "language": "python",
   "name": "python3"
  },
  "language_info": {
   "codemirror_mode": {
    "name": "ipython",
    "version": 3
   },
   "file_extension": ".py",
   "mimetype": "text/x-python",
   "name": "python",
   "nbconvert_exporter": "python",
   "pygments_lexer": "ipython3",
   "version": "3.12.2"
  }
 },
 "nbformat": 4,
 "nbformat_minor": 5
}
