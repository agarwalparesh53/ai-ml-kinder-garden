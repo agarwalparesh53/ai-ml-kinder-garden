{
 "cells": [
  {
   "cell_type": "code",
   "execution_count": 1,
   "id": "668996af-7f5d-423e-a053-c7637b47390c",
   "metadata": {
    "editable": true,
    "slideshow": {
     "slide_type": ""
    },
    "tags": [
     "remove-cell"
    ]
   },
   "outputs": [],
   "source": [
    "import pandas as pd\n",
    "import numpy as np\n",
    "import matplotlib.pyplot as plt"
   ]
  },
  {
   "cell_type": "markdown",
   "id": "4390ff51-62a2-4a35-9796-0263895e5598",
   "metadata": {
    "editable": true,
    "slideshow": {
     "slide_type": ""
    },
    "tags": []
   },
   "source": [
    "## System Of Equations\n",
    "\n",
    "When we try to solve `M` equations in `N` unknowns , we call them a system of equations.\n",
    "\n",
    "### Plain Algebra Representation\n",
    "::::{card}\n",
    "$a_{1}x_{11} + a_{1}x_{12} ... + a_{N}x_{1N} = y_1$\n",
    "\n",
    "$a_{1}x_{21} + ... + a_{N}x_{2N} = y_2$\n",
    "\n",
    "...\n",
    "\n",
    "...\n",
    "\n",
    "...\n",
    "\n",
    "$a_{1}x_{21} + ... + a_{N}x_{2N} = y_M$\n",
    "::::\n",
    "\n",
    "### Matrix Algebra Representation\n",
    "\n",
    ":::{note}\n",
    "It will be tedious to record and represent the system of equations in plain algebra, as M, N continue to become large.\n",
    ":::\n",
    "\n",
    "Hence we can represent the same as following\n",
    "\n",
    "$$ \\begin{bmatrix} a_0 & a_2 & ... & a_n\\end{bmatrix}\\begin{bmatrix} x_{11} & x_{21} & ... & x_{n1}  \\\\ ... & ... & ... & ... \\\\ x_{1n} & x_{2n} & ... & x_{mn}\\end{bmatrix}  = \\begin{bmatrix} y_1 \\\\ y_2 \\\\ \\vdots \\\\ y_m\\end{bmatrix}$$\n",
    "\n",
    "\n",
    "### Number of solutions to system of equations\n",
    "\n",
    "`One Solution`\n",
    "\n",
    "A system of equation can have a unique or one solution when M = N.\n",
    "\n",
    "`No Solution`\n",
    "\n",
    "A system of equation has no solution when there M > N\n",
    "\n",
    "`Infinite Solutions`\n",
    "\n",
    "A system of equation has no solution when there M < N"
   ]
  },
  {
   "cell_type": "markdown",
   "id": "352265fa-de76-491a-8a62-bad7fffdd951",
   "metadata": {
    "editable": true,
    "slideshow": {
     "slide_type": ""
    },
    "tags": []
   },
   "source": [
    "### Basic Data Types And Notations\n",
    "\n",
    "`Scalars`\n",
    "\n",
    "$X$\n",
    "\n",
    "`Vectors`\n",
    "\n",
    "$\\begin{bmatrix} x_1 \\\\ x_2 \\\\x_3 \\end{bmatrix}$\n",
    "\n",
    "`Matrix`\n",
    "\n",
    "$\\begin{bmatrix} a_1 & a_2 & a_3 \\\\ b_1 & b_2 & b_3 \\\\ c_1 & c_2 & c_3 \\end{bmatrix}$\n",
    "\n",
    "\n",
    "`3-tensor`\n",
    "\n",
    "$\\begin{bmatrix} {\\begin{bmatrix} a_1 & a_2 & a_3 \\\\ b_1 & b_2 & b_3 \\\\ c_1 & c_2 & c_3 \\end{bmatrix}} & {\\begin{bmatrix} a_1 & a_2 & a_3 \\\\ b_1 & b_2 & b_3 \\\\ c_1 & c_2 & c_3 \\end{bmatrix}}  \\\\ {\\begin{bmatrix} a_1 & a_2 & a_3 \\\\ b_1 & b_2 & b_3 \\\\ c_1 & c_2 & c_3 \\end{bmatrix}} & {\\begin{bmatrix} a_1 & a_2 & a_3 \\\\ b_1 & b_2 & b_3 \\\\ c_1 & c_2 & c_3 \\end{bmatrix}} \\end{bmatrix}$"
   ]
  },
  {
   "cell_type": "code",
   "execution_count": null,
   "id": "e40e7be8-d09d-4c2d-9ff0-d2291dd59661",
   "metadata": {
    "editable": true,
    "slideshow": {
     "slide_type": ""
    },
    "tags": []
   },
   "outputs": [],
   "source": []
  }
 ],
 "metadata": {
  "kernelspec": {
   "display_name": "Python 3 (ipykernel)",
   "language": "python",
   "name": "python3"
  },
  "language_info": {
   "codemirror_mode": {
    "name": "ipython",
    "version": 3
   },
   "file_extension": ".py",
   "mimetype": "text/x-python",
   "name": "python",
   "nbconvert_exporter": "python",
   "pygments_lexer": "ipython3",
   "version": "3.12.2"
  }
 },
 "nbformat": 4,
 "nbformat_minor": 5
}
