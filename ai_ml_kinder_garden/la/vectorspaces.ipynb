{
 "cells": [
  {
   "cell_type": "code",
   "execution_count": 2,
   "id": "6714a6b8-abb5-4c23-854a-bc84db121537",
   "metadata": {
    "editable": true,
    "slideshow": {
     "slide_type": ""
    },
    "tags": [
     "remove-cell"
    ]
   },
   "outputs": [],
   "source": [
    "import pandas as pd\n",
    "import numpy as np\n",
    "import matplotlib.pyplot as plt"
   ]
  },
  {
   "cell_type": "markdown",
   "id": "b438bc47-4188-4878-b614-0759c0f60af9",
   "metadata": {
    "editable": true,
    "slideshow": {
     "slide_type": ""
    },
    "tags": []
   },
   "source": [
    "# Vector Spaces"
   ]
  },
  {
   "cell_type": "markdown",
   "id": "24c43301-8888-47b2-b918-347937236790",
   "metadata": {
    "editable": true,
    "slideshow": {
     "slide_type": ""
    },
    "tags": []
   },
   "source": [
    "## Null Space N(A)\n",
    "\n",
    "::::{card} \n",
    ":class: tip\n",
    "$A \\hat{X} = \\hat0$\n",
    "\n",
    "\n",
    "Any vector `X` that satisfies above equation , is qualified as to fall in `Null Space` of `A`\n",
    "\n",
    ":::{note}\n",
    "- A null space always includes a zero vector.\n",
    "- Is closed under addition of vectors of null space\n",
    "- Is closed under scalar multiplication.\n",
    ":::\n",
    "\n",
    "::::\n",
    "\n",
    "::::{card} Example\n",
    "\n",
    ":::\n",
    "Lets consider an example to find the null space of a matrix\n",
    "\n",
    "$$K = \\begin{bmatrix} 1 & -2 & 1 & 3 \\\\ -3 & 6 & -3 & -9 \\\\ 4 & -8 & 4 & 12 \\end{bmatrix}$$\n",
    "\n",
    "**Find null space of matrix K**\n",
    "\n",
    ":::\n",
    "\n",
    ":::\n",
    "\n",
    "`By Applying some row operations we can reduce K to below`\n",
    "\n",
    "$$K = \\begin{bmatrix} 1 & -2 & 1 & 3 \\\\ 0 & 0 & 0 & 0 \\\\ 0 & 0 & 0 & 0 \\end{bmatrix}$$\n",
    "\n",
    "$$x_1 - 2x_2 + x_3 + 3x_4 = 0$$\n",
    "\n",
    "$$x_1 = 2x_2 - x_3 - 3x_4 = 0$$\n",
    "\n",
    "$$x_1 = x_2\\begin{bmatrix} 2 \\\\ 1 \\\\ 0 \\\\ 0 \\end{bmatrix} + x_3\\begin{bmatrix} -1 \\\\ 0 \\\\ 1 \\\\ 0 \\end{bmatrix} + x_4\\begin{bmatrix} -3 \\\\ 0 \\\\ 0 \\\\ 1 \\end{bmatrix}$$\n",
    "\n",
    ":::\n",
    "\n",
    ":::{note}\n",
    "\n",
    "N(K) = SPAN($\\begin{bmatrix} 2 \\\\ 1 \\\\ 0 \\\\ 0 \\end{bmatrix}, \\begin{bmatrix} -1 \\\\ 0 \\\\ 1 \\\\ 0 \\end{bmatrix}, \\begin{bmatrix} -3 \\\\ 0 \\\\ 0 \\\\ 1 \\end{bmatrix}$)\n",
    "\n",
    ":::\n",
    "\n",
    "::::"
   ]
  },
  {
   "cell_type": "markdown",
   "id": "9672e3cb-7599-45b4-894a-c17e24265e56",
   "metadata": {
    "editable": true,
    "slideshow": {
     "slide_type": ""
    },
    "tags": []
   },
   "source": [
    "## Column Space C(A)\n",
    "\n",
    "::::{card}\n",
    "\n",
    "$A \\hat{X} = \\hat{b}$\n",
    "\n",
    "A vector `b` is said to be in `Column Space` of `A` if it satisfies the above equation, \n",
    "i.e it can be expressed as a linear combination of `Column Vectors` of `A`\n",
    "\n",
    "::::\n",
    "\n",
    ":::{note}\n",
    "\n",
    "- If N(A) = $\\hat 0$ columns of A are `Linearly Independent` -> Columns form a `Basis` for C(A)\n",
    "- If N(A) = $\\hat 0, \\hat{v}$ columns of A are `Linearly Dependent` -> Do not form a `Basis` for C(A)\n",
    "\n",
    ":::\n",
    "\n",
    "\n",
    "::::{card} Example\n",
    "\n",
    ":::\n",
    "$$K = \\begin{bmatrix} 1 & 2 \\\\ 3 & 6 \\end{bmatrix}$$\n",
    "\n",
    "**Find column space of matrix K**\n",
    "\n",
    ":::\n",
    "\n",
    ":::\n",
    "\n",
    "`By Applying some row operations we can reduce K to below`\n",
    "\n",
    "$$K = \\begin{bmatrix} 1 & 2 \\\\ 0 & 0 \\end{bmatrix}$$\n",
    "\n",
    "$$x_1 + 2x_2 = 0$$\n",
    "\n",
    ":::\n",
    "\n",
    ":::{note}\n",
    "\n",
    "N(K) = SPAN($\\begin{bmatrix} -2 \\\\ 1 \\end{bmatrix}$)\n",
    "\n",
    "This confirms that columns of K are linearly dependent.\n",
    "\n",
    ":::\n",
    "\n",
    "::::"
   ]
  },
  {
   "cell_type": "markdown",
   "id": "f8263c20-30c1-4b66-ba46-18f372615ffe",
   "metadata": {
    "editable": true,
    "slideshow": {
     "slide_type": ""
    },
    "tags": []
   },
   "source": [
    "## Dimension of a Vector Space\n",
    "\n",
    "::::{card}\n",
    "Number of basis vectors in the space.\n",
    "::::\n",
    "\n",
    "## Nullity And Rank\n",
    "\n",
    "::::{card}\n",
    "\n",
    "`Nullity`\n",
    "Dimension of Null Space of A.\n",
    "\n",
    "i.e. The number of free columns, which do not have pivot in reduced form.\n",
    "\n",
    "`Rank`\n",
    "Number of column vectors in column space of A.\n",
    "\n",
    ":::{card} Example\n",
    "$\\begin{bmatrix} 1 & 0 & 0 & 8 \\\\ 0 & 1 & 0 & 3 \\\\ 0 & 0 & 1 & 2 \\end{bmatrix}$\n",
    "\n",
    "Nullity(A) = 1\n",
    "\n",
    "Rank(A) = 3\n",
    ":::\n",
    "::::"
   ]
  },
  {
   "cell_type": "code",
   "execution_count": null,
   "id": "fb6cff84-6c61-44ea-a213-e19a9020cd4c",
   "metadata": {
    "editable": true,
    "slideshow": {
     "slide_type": ""
    },
    "tags": []
   },
   "outputs": [],
   "source": []
  }
 ],
 "metadata": {
  "kernelspec": {
   "display_name": "Python 3 (ipykernel)",
   "language": "python",
   "name": "python3"
  },
  "language_info": {
   "codemirror_mode": {
    "name": "ipython",
    "version": 3
   },
   "file_extension": ".py",
   "mimetype": "text/x-python",
   "name": "python",
   "nbconvert_exporter": "python",
   "pygments_lexer": "ipython3",
   "version": "3.12.2"
  }
 },
 "nbformat": 4,
 "nbformat_minor": 5
}
